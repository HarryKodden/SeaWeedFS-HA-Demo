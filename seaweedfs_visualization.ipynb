{
 "cells": [
  {
   "cell_type": "markdown",
   "id": "4a97f106",
   "metadata": {},
   "source": [
    "# SeaweedFS Docker Compose Architecture Visualization\n",
    "\n",
    "This notebook visualizes the SeaweedFS Docker Compose setup, showing the relationships between containers, networks, volumes, and how the components interact with each other.\n",
    "\n",
    "## Overview\n",
    "\n",
    "SeaweedFS is a simple and highly scalable distributed file system that offers:\n",
    "- S3 API compatibility\n",
    "- Fast data access\n",
    "- Simple deployment\n",
    "- Horizontal scalability"
   ]
  },
  {
   "cell_type": "markdown",
   "id": "ce8e8ceb",
   "metadata": {},
   "source": [
    "## 1. Import Required Libraries"
   ]
  },
  {
   "cell_type": "code",
   "execution_count": 6,
   "id": "b038b71f",
   "metadata": {},
   "outputs": [
    {
     "name": "stdout",
     "output_type": "stream",
     "text": [
      "Requirement already satisfied: networkx in ./.venv/lib/python3.9/site-packages (3.2.1)\n",
      "Collecting plotly\n",
      "Collecting plotly\n",
      "  Downloading plotly-6.3.0-py3-none-any.whl (9.8 MB)\n",
      "\u001b[K     |██████████▉                     | 3.3 MB 24.5 MB/s eta 0:00:01  Downloading plotly-6.3.0-py3-none-any.whl (9.8 MB)\n",
      "\u001b[K     |████████████████████████████████| 9.8 MB 24.5 MB/s eta 0:00:01\n",
      "\u001b[K     |████████████████████████████████| 9.8 MB 24.5 MB/s \n",
      "\u001b[?25hRequirement already satisfied: packaging in ./.venv/lib/python3.9/site-packages (from plotly) (25.0)\n",
      "Requirement already satisfied: packaging in ./.venv/lib/python3.9/site-packages (from plotly) (25.0)\n",
      "Collecting narwhals>=1.15.1\n",
      "  Downloading narwhals-2.3.0-py3-none-any.whl (404 kB)\n",
      "Collecting narwhals>=1.15.1\n",
      "  Downloading narwhals-2.3.0-py3-none-any.whl (404 kB)\n",
      "\u001b[K     |████████████████████████████████| 404 kB 94.1 MB/s eta 0:00:01\n",
      "\u001b[K     |████████████████████████████████| 404 kB 94.1 MB/s eta 0:00:01\n",
      "\u001b[?25hInstalling collected packages: narwhals, plotly\n",
      "Installing collected packages: narwhals, plotly\n",
      "Successfully installed narwhals-2.3.0 plotly-6.3.0\n",
      "Successfully installed narwhals-2.3.0 plotly-6.3.0\n"
     ]
    }
   ],
   "source": [
    "!pip install networkx plotly\n"
   ]
  },
  {
   "cell_type": "code",
   "execution_count": 7,
   "id": "d31ea595",
   "metadata": {},
   "outputs": [],
   "source": [
    "import yaml\n",
    "import os\n",
    "import networkx as nx\n",
    "import matplotlib.pyplot as plt\n",
    "import plotly.graph_objects as go\n",
    "import pandas as pd\n",
    "from IPython.display import HTML, display\n",
    "import boto3\n",
    "import json\n",
    "from dotenv import load_dotenv\n",
    "\n",
    "# Set up plotting\n",
    "plt.style.use('ggplot')\n",
    "%matplotlib inline"
   ]
  },
  {
   "cell_type": "markdown",
   "id": "26775027",
   "metadata": {},
   "source": [
    "## 2. Parse Docker Compose File\n",
    "\n",
    "First, let's parse the Docker Compose file to understand the structure of our setup."
   ]
  },
  {
   "cell_type": "code",
   "execution_count": 8,
   "id": "c1a889f4",
   "metadata": {},
   "outputs": [
    {
     "name": "stdout",
     "output_type": "stream",
     "text": [
      "Services defined: ['master', 'volume', 'filer']\n",
      "Networks defined: ['external', 'internal']\n",
      "Volumes defined: ['volume', 'filer']\n"
     ]
    }
   ],
   "source": [
    "# Function to read Docker Compose file\n",
    "def read_docker_compose(filepath):\n",
    "    with open(filepath, 'r') as file:\n",
    "        compose_data = yaml.safe_load(file)\n",
    "    return compose_data\n",
    "\n",
    "# Path to Docker Compose file\n",
    "compose_file_path = 'docker-compose.yml'\n",
    "\n",
    "# Read Docker Compose file\n",
    "compose_data = read_docker_compose(compose_file_path)\n",
    "\n",
    "# Display basic info\n",
    "print(f\"Services defined: {list(compose_data['services'].keys())}\")\n",
    "print(f\"Networks defined: {list(compose_data.get('networks', {}).keys())}\")\n",
    "print(f\"Volumes defined: {list(compose_data.get('volumes', {}).keys())}\")"
   ]
  },
  {
   "cell_type": "markdown",
   "id": "16e56efd",
   "metadata": {},
   "source": [
    "## 3. Extract Container Details\n",
    "\n",
    "Let's extract detailed information about each container in the SeaweedFS setup."
   ]
  },
  {
   "cell_type": "code",
   "execution_count": 9,
   "id": "b2cfe6c8",
   "metadata": {},
   "outputs": [
    {
     "data": {
      "text/html": [
       "<div>\n",
       "<style scoped>\n",
       "    .dataframe tbody tr th:only-of-type {\n",
       "        vertical-align: middle;\n",
       "    }\n",
       "\n",
       "    .dataframe tbody tr th {\n",
       "        vertical-align: top;\n",
       "    }\n",
       "\n",
       "    .dataframe thead th {\n",
       "        text-align: right;\n",
       "    }\n",
       "</style>\n",
       "<table border=\"1\" class=\"dataframe\">\n",
       "  <thead>\n",
       "    <tr style=\"text-align: right;\">\n",
       "      <th></th>\n",
       "      <th>name</th>\n",
       "      <th>image</th>\n",
       "      <th>command</th>\n",
       "    </tr>\n",
       "  </thead>\n",
       "  <tbody>\n",
       "    <tr>\n",
       "      <th>0</th>\n",
       "      <td>master</td>\n",
       "      <td>chrislusf/seaweedfs</td>\n",
       "      <td>master -ip=master</td>\n",
       "    </tr>\n",
       "    <tr>\n",
       "      <th>1</th>\n",
       "      <td>volume</td>\n",
       "      <td>chrislusf/seaweedfs</td>\n",
       "      <td>volume -ip=volume -port=8080 -mserver=master:9...</td>\n",
       "    </tr>\n",
       "    <tr>\n",
       "      <th>2</th>\n",
       "      <td>filer</td>\n",
       "      <td>chrislusf/seaweedfs</td>\n",
       "      <td>filer -master=\"master:9333\" -ip=filer -port=88...</td>\n",
       "    </tr>\n",
       "  </tbody>\n",
       "</table>\n",
       "</div>"
      ],
      "text/plain": [
       "     name                image  \\\n",
       "0  master  chrislusf/seaweedfs   \n",
       "1  volume  chrislusf/seaweedfs   \n",
       "2   filer  chrislusf/seaweedfs   \n",
       "\n",
       "                                             command  \n",
       "0                                  master -ip=master  \n",
       "1  volume -ip=volume -port=8080 -mserver=master:9...  \n",
       "2  filer -master=\"master:9333\" -ip=filer -port=88...  "
      ]
     },
     "metadata": {},
     "output_type": "display_data"
    }
   ],
   "source": [
    "# Function to extract key container details\n",
    "def extract_container_details(compose_data):\n",
    "    containers = []\n",
    "    \n",
    "    for service_name, service_config in compose_data['services'].items():\n",
    "        container = {\n",
    "            'name': service_name,\n",
    "            'image': service_config.get('image', 'N/A'),\n",
    "            'ports': service_config.get('ports', []),\n",
    "            'networks': service_config.get('networks', []),\n",
    "            'depends_on': service_config.get('depends_on', {}),\n",
    "            'volumes': service_config.get('volumes', []),\n",
    "            'command': service_config.get('command', 'N/A'),\n",
    "            'environment': service_config.get('environment', {})\n",
    "        }\n",
    "        containers.append(container)\n",
    "    \n",
    "    return containers\n",
    "\n",
    "# Extract container details\n",
    "containers = extract_container_details(compose_data)\n",
    "\n",
    "# Display container details in a DataFrame\n",
    "container_df = pd.DataFrame(containers)\n",
    "display(container_df[['name', 'image', 'command']])"
   ]
  },
  {
   "cell_type": "markdown",
   "id": "86fb3663",
   "metadata": {},
   "source": [
    "## 4. Create Container Relationship Graph\n",
    "\n",
    "Now, let's create a graph representing the relationships between containers."
   ]
  },
  {
   "cell_type": "code",
   "execution_count": 10,
   "id": "c2ec94da",
   "metadata": {},
   "outputs": [],
   "source": [
    "# Create a directed graph\n",
    "G = nx.DiGraph()\n",
    "\n",
    "# Add service nodes\n",
    "for service_name in compose_data['services']:\n",
    "    G.add_node(service_name, type='service')\n",
    "\n",
    "# Add network nodes\n",
    "if 'networks' in compose_data:\n",
    "    for network_name in compose_data['networks']:\n",
    "        G.add_node(f\"network:{network_name}\", type='network')\n",
    "        \n",
    "# Add volume nodes\n",
    "if 'volumes' in compose_data:\n",
    "    for volume_name in compose_data['volumes']:\n",
    "        G.add_node(f\"volume:{volume_name}\", type='volume')\n",
    "\n",
    "# Connect services to networks\n",
    "for service_name, service_config in compose_data['services'].items():\n",
    "    if 'networks' in service_config:\n",
    "        for network in service_config['networks']:\n",
    "            G.add_edge(service_name, f\"network:{network}\")\n",
    "    \n",
    "    # Connect services to volumes\n",
    "    if 'volumes' in service_config:\n",
    "        for volume in service_config['volumes']:\n",
    "            if ':' in volume and not volume.startswith('/'):\n",
    "                volume_name = volume.split(':')[0]\n",
    "                if volume_name in compose_data.get('volumes', {}):\n",
    "                    G.add_edge(service_name, f\"volume:{volume_name}\")\n",
    "    \n",
    "    # Connect service dependencies\n",
    "    if 'depends_on' in service_config:\n",
    "        depends_on = service_config['depends_on']\n",
    "        if isinstance(depends_on, dict):\n",
    "            for dependency in depends_on:\n",
    "                G.add_edge(service_name, dependency)\n",
    "        elif isinstance(depends_on, list):\n",
    "            for dependency in depends_on:\n",
    "                G.add_edge(service_name, dependency)"
   ]
  },
  {
   "cell_type": "markdown",
   "id": "ef1368e6",
   "metadata": {},
   "source": [
    "## 5. Visualize Container Relationships\n",
    "\n",
    "Let's create a visual representation of the container relationships."
   ]
  },
  {
   "cell_type": "code",
   "execution_count": 11,
   "id": "ad05d4e9",
   "metadata": {},
   "outputs": [
    {
     "data": {
      "image/png": "[encoded data removed]",
      "text/plain": [
       "<Figure size 1400x1000 with 1 Axes>"
      ]
     },
     "metadata": {},
     "output_type": "display_data"
    }
   ],
   "source": [
    "# Define colors for different node types\n",
    "node_colors = {\n",
    "    'service': '#1f77b4',  # blue\n",
    "    'network': '#2ca02c',  # green\n",
    "    'volume': '#ff7f0e'    # orange\n",
    "}\n",
    "\n",
    "# Create a dictionary mapping node names to colors\n",
    "node_color_map = [node_colors[G.nodes[node]['type']] for node in G.nodes()]\n",
    "\n",
    "# Create a figure\n",
    "plt.figure(figsize=(14, 10))\n",
    "\n",
    "# Define layout\n",
    "pos = nx.spring_layout(G, seed=42)\n",
    "\n",
    "# Draw nodes with colors based on type\n",
    "nx.draw_networkx_nodes(G, pos, node_color=node_color_map, node_size=1000, alpha=0.8)\n",
    "\n",
    "# Draw edges\n",
    "nx.draw_networkx_edges(G, pos, width=2, alpha=0.5, arrowsize=20)\n",
    "\n",
    "# Draw labels\n",
    "nx.draw_networkx_labels(G, pos, font_size=12, font_weight='bold')\n",
    "\n",
    "# Create legend\n",
    "legend_elements = [\n",
    "    plt.Line2D([0], [0], marker='o', color='w', markerfacecolor=color, markersize=15, label=label)\n",
    "    for label, color in node_colors.items()\n",
    "]\n",
    "plt.legend(handles=legend_elements, title='Node Type', loc='upper right')\n",
    "\n",
    "# Remove axes\n",
    "plt.axis('off')\n",
    "plt.title('SeaweedFS Docker Compose Architecture', fontsize=16)\n",
    "plt.tight_layout()\n",
    "plt.show()"
   ]
  },
  {
   "cell_type": "markdown",
   "id": "4b0e6983",
   "metadata": {},
   "source": [
    "## 6. Interactive Visualization with Plotly\n",
    "\n",
    "Let's create an interactive visualization to better explore the relationships."
   ]
  },
  {
   "cell_type": "code",
   "execution_count": 12,
   "id": "2ac5f5b7",
   "metadata": {},
   "outputs": [
    {
     "data": {
      "application/vnd.plotly.v1+json": {
       "config": {
        "plotlyServerURL": "https://plot.ly"
       },
       "data": [
        {
         "hoverinfo": "none",
         "line": {
          "color": "#888",
          "width": 1
         },
         "mode": "lines",
         "type": "scatter",
         "x": [
          -0.009108450302657974,
          0.9557963525933243,
          null,
          -0.009108450302657974,
          -0.9741270988424633,
          null,
          -0.17626467210080352,
          0.9557963525933243,
          null,
          -0.17626467210080352,
          -0.9741270988424633,
          null,
          -0.17626467210080352,
          -0.7903581167030749,
          null,
          -0.17626467210080352,
          -0.009108450302657974,
          null,
          0.15927394667380637,
          0.9557963525933243,
          null,
          0.15927394667380637,
          -0.9741270988424633,
          null,
          0.15927394667380637,
          0.8347880386818691,
          null,
          0.15927394667380637,
          -0.009108450302657974,
          null,
          0.15927394667380637,
          -0.17626467210080352,
          null
         ],
         "y": [
          0.03749943411069974,
          0.4638943700637679,
          null,
          0.03749943411069974,
          -0.3865118944278805,
          null,
          0.2632917362428078,
          0.4638943700637679,
          null,
          0.2632917362428078,
          -0.3865118944278805,
          null,
          0.2632917362428078,
          0.8306138343577711,
          null,
          0.2632917362428078,
          0.03749943411069974,
          null,
          -0.20878748034716565,
          0.4638943700637679,
          null,
          -0.20878748034716565,
          -0.3865118944278805,
          null,
          -0.20878748034716565,
          -1,
          null,
          -0.20878748034716565,
          0.03749943411069974,
          null,
          -0.20878748034716565,
          0.2632917362428078,
          null
         ]
        },
        {
         "hoverinfo": "text",
         "marker": {
          "color": "#1f77b4",
          "line": {
           "color": "#000",
           "width": 2
          },
          "size": 30
         },
         "mode": "markers+text",
         "text": [
          "master",
          "volume",
          "filer"
         ],
         "type": "scatter",
         "x": [
          -0.009108450302657974,
          -0.17626467210080352,
          0.15927394667380637
         ],
         "y": [
          0.03749943411069974,
          0.2632917362428078,
          -0.20878748034716565
         ]
        },
        {
         "hoverinfo": "text",
         "marker": {
          "color": "#2ca02c",
          "line": {
           "color": "#000",
           "width": 2
          },
          "size": 30
         },
         "mode": "markers+text",
         "text": [
          "network:external",
          "network:internal"
         ],
         "type": "scatter",
         "x": [
          -0.9741270988424633,
          0.9557963525933243
         ],
         "y": [
          -0.3865118944278805,
          0.4638943700637679
         ]
        },
        {
         "hoverinfo": "text",
         "marker": {
          "color": "#ff7f0e",
          "line": {
           "color": "#000",
           "width": 2
          },
          "size": 30
         },
         "mode": "markers+text",
         "text": [
          "volume:volume",
          "volume:filer"
         ],
         "type": "scatter",
         "x": [
          -0.7903581167030749,
          0.8347880386818691
         ],
         "y": [
          0.8306138343577711,
          -1
         ]
        }
       ],
       "layout": {
        "hovermode": "closest",
        "margin": {
         "b": 0,
         "l": 0,
         "r": 0,
         "t": 40
        },
        "showlegend": false,
        "template": {
         "data": {
          "bar": [
           {
            "error_x": {
             "color": "#2a3f5f"
            },
            "error_y": {
             "color": "#2a3f5f"
            },
            "marker": {
             "line": {
              "color": "#E5ECF6",
              "width": 0.5
             },
             "pattern": {
              "fillmode": "overlay",
              "size": 10,
              "solidity": 0.2
             }
            },
            "type": "bar"
           }
          ],
          "barpolar": [
           {
            "marker": {
             "line": {
              "color": "#E5ECF6",
              "width": 0.5
             },
             "pattern": {
              "fillmode": "overlay",
              "size": 10,
              "solidity": 0.2
             }
            },
            "type": "barpolar"
           }
          ],
          "carpet": [
           {
            "aaxis": {
             "endlinecolor": "#2a3f5f",
             "gridcolor": "white",
             "linecolor": "white",
             "minorgridcolor": "white",
             "startlinecolor": "#2a3f5f"
            },
            "baxis": {
             "endlinecolor": "#2a3f5f",
             "gridcolor": "white",
             "linecolor": "white",
             "minorgridcolor": "white",
             "startlinecolor": "#2a3f5f"
            },
            "type": "carpet"
           }
          ],
          "choropleth": [
           {
            "colorbar": {
             "outlinewidth": 0,
             "ticks": ""
            },
            "type": "choropleth"
           }
          ],
          "contour": [
           {
            "colorbar": {
             "outlinewidth": 0,
             "ticks": ""
            },
            "colorscale": [
             [
              0,
              "#0d0887"
             ],
             [
              0.1111111111111111,
              "#46039f"
             ],
             [
              0.2222222222222222,
              "#7201a8"
             ],
             [
              0.3333333333333333,
              "#9c179e"
             ],
             [
              0.4444444444444444,
              "#bd3786"
             ],
             [
              0.5555555555555556,
              "#d8576b"
             ],
             [
              0.6666666666666666,
              "#ed7953"
             ],
             [
              0.7777777777777778,
              "#fb9f3a"
             ],
             [
              0.8888888888888888,
              "#fdca26"
             ],
             [
              1,
              "#f0f921"
             ]
            ],
            "type": "contour"
           }
          ],
          "contourcarpet": [
           {
            "colorbar": {
             "outlinewidth": 0,
             "ticks": ""
            },
            "type": "contourcarpet"
           }
          ],
          "heatmap": [
           {
            "colorbar": {
             "outlinewidth": 0,
             "ticks": ""
            },
            "colorscale": [
             [
              0,
              "#0d0887"
             ],
             [
              0.1111111111111111,
              "#46039f"
             ],
             [
              0.2222222222222222,
              "#7201a8"
             ],
             [
              0.3333333333333333,
              "#9c179e"
             ],
             [
              0.4444444444444444,
              "#bd3786"
             ],
             [
              0.5555555555555556,
              "#d8576b"
             ],
             [
              0.6666666666666666,
              "#ed7953"
             ],
             [
              0.7777777777777778,
              "#fb9f3a"
             ],
             [
              0.8888888888888888,
              "#fdca26"
             ],
             [
              1,
              "#f0f921"
             ]
            ],
            "type": "heatmap"
           }
          ],
          "histogram": [
           {
            "marker": {
             "pattern": {
              "fillmode": "overlay",
              "size": 10,
              "solidity": 0.2
             }
            },
            "type": "histogram"
           }
          ],
          "histogram2d": [
           {
            "colorbar": {
             "outlinewidth": 0,
             "ticks": ""
            },
            "colorscale": [
             [
              0,
              "#0d0887"
             ],
             [
              0.1111111111111111,
              "#46039f"
             ],
             [
              0.2222222222222222,
              "#7201a8"
             ],
             [
              0.3333333333333333,
              "#9c179e"
             ],
             [
              0.4444444444444444,
              "#bd3786"
             ],
             [
              0.5555555555555556,
              "#d8576b"
             ],
             [
              0.6666666666666666,
              "#ed7953"
             ],
             [
              0.7777777777777778,
              "#fb9f3a"
             ],
             [
              0.8888888888888888,
              "#fdca26"
             ],
             [
              1,
              "#f0f921"
             ]
            ],
            "type": "histogram2d"
           }
          ],
          "histogram2dcontour": [
           {
            "colorbar": {
             "outlinewidth": 0,
             "ticks": ""
            },
            "colorscale": [
             [
              0,
              "#0d0887"
             ],
             [
              0.1111111111111111,
              "#46039f"
             ],
             [
              0.2222222222222222,
              "#7201a8"
             ],
             [
              0.3333333333333333,
              "#9c179e"
             ],
             [
              0.4444444444444444,
              "#bd3786"
             ],
             [
              0.5555555555555556,
              "#d8576b"
             ],
             [
              0.6666666666666666,
              "#ed7953"
             ],
             [
              0.7777777777777778,
              "#fb9f3a"
             ],
             [
              0.8888888888888888,
              "#fdca26"
             ],
             [
              1,
              "#f0f921"
             ]
            ],
            "type": "histogram2dcontour"
           }
          ],
          "mesh3d": [
           {
            "colorbar": {
             "outlinewidth": 0,
             "ticks": ""
            },
            "type": "mesh3d"
           }
          ],
          "parcoords": [
           {
            "line": {
             "colorbar": {
              "outlinewidth": 0,
              "ticks": ""
             }
            },
            "type": "parcoords"
           }
          ],
          "pie": [
           {
            "automargin": true,
            "type": "pie"
           }
          ],
          "scatter": [
           {
            "fillpattern": {
             "fillmode": "overlay",
             "size": 10,
             "solidity": 0.2
            },
            "type": "scatter"
           }
          ],
          "scatter3d": [
           {
            "line": {
             "colorbar": {
              "outlinewidth": 0,
              "ticks": ""
             }
            },
            "marker": {
             "colorbar": {
              "outlinewidth": 0,
              "ticks": ""
             }
            },
            "type": "scatter3d"
           }
          ],
          "scattercarpet": [
           {
            "marker": {
             "colorbar": {
              "outlinewidth": 0,
              "ticks": ""
             }
            },
            "type": "scattercarpet"
           }
          ],
          "scattergeo": [
           {
            "marker": {
             "colorbar": {
              "outlinewidth": 0,
              "ticks": ""
             }
            },
            "type": "scattergeo"
           }
          ],
          "scattergl": [
           {
            "marker": {
             "colorbar": {
              "outlinewidth": 0,
              "ticks": ""
             }
            },
            "type": "scattergl"
           }
          ],
          "scattermap": [
           {
            "marker": {
             "colorbar": {
              "outlinewidth": 0,
              "ticks": ""
             }
            },
            "type": "scattermap"
           }
          ],
          "scattermapbox": [
           {
            "marker": {
             "colorbar": {
              "outlinewidth": 0,
              "ticks": ""
             }
            },
            "type": "scattermapbox"
           }
          ],
          "scatterpolar": [
           {
            "marker": {
             "colorbar": {
              "outlinewidth": 0,
              "ticks": ""
             }
            },
            "type": "scatterpolar"
           }
          ],
          "scatterpolargl": [
           {
            "marker": {
             "colorbar": {
              "outlinewidth": 0,
              "ticks": ""
             }
            },
            "type": "scatterpolargl"
           }
          ],
          "scatterternary": [
           {
            "marker": {
             "colorbar": {
              "outlinewidth": 0,
              "ticks": ""
             }
            },
            "type": "scatterternary"
           }
          ],
          "surface": [
           {
            "colorbar": {
             "outlinewidth": 0,
             "ticks": ""
            },
            "colorscale": [
             [
              0,
              "#0d0887"
             ],
             [
              0.1111111111111111,
              "#46039f"
             ],
             [
              0.2222222222222222,
              "#7201a8"
             ],
             [
              0.3333333333333333,
              "#9c179e"
             ],
             [
              0.4444444444444444,
              "#bd3786"
             ],
             [
              0.5555555555555556,
              "#d8576b"
             ],
             [
              0.6666666666666666,
              "#ed7953"
             ],
             [
              0.7777777777777778,
              "#fb9f3a"
             ],
             [
              0.8888888888888888,
              "#fdca26"
             ],
             [
              1,
              "#f0f921"
             ]
            ],
            "type": "surface"
           }
          ],
          "table": [
           {
            "cells": {
             "fill": {
              "color": "#EBF0F8"
             },
             "line": {
              "color": "white"
             }
            },
            "header": {
             "fill": {
              "color": "#C8D4E3"
             },
             "line": {
              "color": "white"
             }
            },
            "type": "table"
           }
          ]
         },
         "layout": {
          "annotationdefaults": {
           "arrowcolor": "#2a3f5f",
           "arrowhead": 0,
           "arrowwidth": 1
          },
          "autotypenumbers": "strict",
          "coloraxis": {
           "colorbar": {
            "outlinewidth": 0,
            "ticks": ""
           }
          },
          "colorscale": {
           "diverging": [
            [
             0,
             "#8e0152"
            ],
            [
             0.1,
             "#c51b7d"
            ],
            [
             0.2,
             "#de77ae"
            ],
            [
             0.3,
             "#f1b6da"
            ],
            [
             0.4,
             "#fde0ef"
            ],
            [
             0.5,
             "#f7f7f7"
            ],
            [
             0.6,
             "#e6f5d0"
            ],
            [
             0.7,
             "#b8e186"
            ],
            [
             0.8,
             "#7fbc41"
            ],
            [
             0.9,
             "#4d9221"
            ],
            [
             1,
             "#276419"
            ]
           ],
           "sequential": [
            [
             0,
             "#0d0887"
            ],
            [
             0.1111111111111111,
             "#46039f"
            ],
            [
             0.2222222222222222,
             "#7201a8"
            ],
            [
             0.3333333333333333,
             "#9c179e"
            ],
            [
             0.4444444444444444,
             "#bd3786"
            ],
            [
             0.5555555555555556,
             "#d8576b"
            ],
            [
             0.6666666666666666,
             "#ed7953"
            ],
            [
             0.7777777777777778,
             "#fb9f3a"
            ],
            [
             0.8888888888888888,
             "#fdca26"
            ],
            [
             1,
             "#f0f921"
            ]
           ],
           "sequentialminus": [
            [
             0,
             "#0d0887"
            ],
            [
             0.1111111111111111,
             "#46039f"
            ],
            [
             0.2222222222222222,
             "#7201a8"
            ],
            [
             0.3333333333333333,
             "#9c179e"
            ],
            [
             0.4444444444444444,
             "#bd3786"
            ],
            [
             0.5555555555555556,
             "#d8576b"
            ],
            [
             0.6666666666666666,
             "#ed7953"
            ],
            [
             0.7777777777777778,
             "#fb9f3a"
            ],
            [
             0.8888888888888888,
             "#fdca26"
            ],
            [
             1,
             "#f0f921"
            ]
           ]
          },
          "colorway": [
           "#636efa",
           "#EF553B",
           "#00cc96",
           "#ab63fa",
           "#FFA15A",
           "#19d3f3",
           "#FF6692",
           "#B6E880",
           "#FF97FF",
           "#FECB52"
          ],
          "font": {
           "color": "#2a3f5f"
          },
          "geo": {
           "bgcolor": "white",
           "lakecolor": "white",
           "landcolor": "#E5ECF6",
           "showlakes": true,
           "showland": true,
           "subunitcolor": "white"
          },
          "hoverlabel": {
           "align": "left"
          },
          "hovermode": "closest",
          "mapbox": {
           "style": "light"
          },
          "paper_bgcolor": "white",
          "plot_bgcolor": "#E5ECF6",
          "polar": {
           "angularaxis": {
            "gridcolor": "white",
            "linecolor": "white",
            "ticks": ""
           },
           "bgcolor": "#E5ECF6",
           "radialaxis": {
            "gridcolor": "white",
            "linecolor": "white",
            "ticks": ""
           }
          },
          "scene": {
           "xaxis": {
            "backgroundcolor": "#E5ECF6",
            "gridcolor": "white",
            "gridwidth": 2,
            "linecolor": "white",
            "showbackground": true,
            "ticks": "",
            "zerolinecolor": "white"
           },
           "yaxis": {
            "backgroundcolor": "#E5ECF6",
            "gridcolor": "white",
            "gridwidth": 2,
            "linecolor": "white",
            "showbackground": true,
            "ticks": "",
            "zerolinecolor": "white"
           },
           "zaxis": {
            "backgroundcolor": "#E5ECF6",
            "gridcolor": "white",
            "gridwidth": 2,
            "linecolor": "white",
            "showbackground": true,
            "ticks": "",
            "zerolinecolor": "white"
           }
          },
          "shapedefaults": {
           "line": {
            "color": "#2a3f5f"
           }
          },
          "ternary": {
           "aaxis": {
            "gridcolor": "white",
            "linecolor": "white",
            "ticks": ""
           },
           "baxis": {
            "gridcolor": "white",
            "linecolor": "white",
            "ticks": ""
           },
           "bgcolor": "#E5ECF6",
           "caxis": {
            "gridcolor": "white",
            "linecolor": "white",
            "ticks": ""
           }
          },
          "title": {
           "x": 0.05
          },
          "xaxis": {
           "automargin": true,
           "gridcolor": "white",
           "linecolor": "white",
           "ticks": "",
           "title": {
            "standoff": 15
           },
           "zerolinecolor": "white",
           "zerolinewidth": 2
          },
          "yaxis": {
           "automargin": true,
           "gridcolor": "white",
           "linecolor": "white",
           "ticks": "",
           "title": {
            "standoff": 15
           },
           "zerolinecolor": "white",
           "zerolinewidth": 2
          }
         }
        },
        "title": {
         "text": "Interactive SeaweedFS Docker Compose Architecture"
        },
        "xaxis": {
         "showgrid": false,
         "showticklabels": false,
         "zeroline": false
        },
        "yaxis": {
         "showgrid": false,
         "showticklabels": false,
         "zeroline": false
        }
       }
      }
     },
     "metadata": {},
     "output_type": "display_data"
    }
   ],
   "source": [
    "# Create an interactive visualization using Plotly\n",
    "def create_interactive_graph(G):\n",
    "    # Calculate node positions with networkx\n",
    "    pos = nx.spring_layout(G, seed=42)\n",
    "    \n",
    "    # Create edge traces\n",
    "    edge_x = []\n",
    "    edge_y = []\n",
    "    for edge in G.edges():\n",
    "        x0, y0 = pos[edge[0]]\n",
    "        x1, y1 = pos[edge[1]]\n",
    "        edge_x.extend([x0, x1, None])\n",
    "        edge_y.extend([y0, y1, None])\n",
    "        \n",
    "    edge_trace = go.Scatter(\n",
    "        x=edge_x, y=edge_y,\n",
    "        line=dict(width=1, color='#888'),\n",
    "        hoverinfo='none',\n",
    "        mode='lines')\n",
    "    \n",
    "    # Create node traces (separate trace for each node type)\n",
    "    node_traces = {}\n",
    "    for node_type, color in node_colors.items():\n",
    "        node_traces[node_type] = go.Scatter(\n",
    "            x=[], y=[],\n",
    "            mode='markers+text',\n",
    "            hoverinfo='text',\n",
    "            text=[],\n",
    "            marker=dict(\n",
    "                color=color,\n",
    "                size=30,\n",
    "                line=dict(width=2, color='#000'))\n",
    "        )\n",
    "    \n",
    "    # Add nodes to their respective traces\n",
    "    for node in G.nodes():\n",
    "        x, y = pos[node]\n",
    "        node_type = G.nodes[node]['type']\n",
    "        node_name = node\n",
    "        node_traces[node_type]['x'] += tuple([x])\n",
    "        node_traces[node_type]['y'] += tuple([y])\n",
    "        node_traces[node_type]['text'] += tuple([node_name])\n",
    "    \n",
    "    # Create figure\n",
    "    fig = go.Figure(\n",
    "        data=[edge_trace] + list(node_traces.values()),\n",
    "        layout=go.Layout(\n",
    "            title='Interactive SeaweedFS Docker Compose Architecture',\n",
    "            showlegend=False,\n",
    "            hovermode='closest',\n",
    "            margin=dict(b=0, l=0, r=0, t=40),\n",
    "            xaxis=dict(showgrid=False, zeroline=False, showticklabels=False),\n",
    "            yaxis=dict(showgrid=False, zeroline=False, showticklabels=False))\n",
    "    )\n",
    "    \n",
    "    return fig\n",
    "\n",
    "# Create and display the interactive graph\n",
    "fig = create_interactive_graph(G)\n",
    "fig.show()"
   ]
  },
  {
   "cell_type": "markdown",
   "id": "7aed83df",
   "metadata": {},
   "source": [
    "## 7. Architecture Diagram\n",
    "\n",
    "Below is a static architectural diagram of the SeaweedFS setup:"
   ]
  },
  {
   "cell_type": "code",
   "execution_count": 20,
   "id": "7ef1f79d",
   "metadata": {},
   "outputs": [
    {
     "name": "stdout",
     "output_type": "stream",
     "text": [
      "\n",
      "┌────────────────────────────────────────────────────────────────────────────────────────────────────────┐\n",
      "│                                                                                                        │\n",
      "│                            Client (Browser/API Client)                                                 │\n",
      "│                                                                                                        │\n",
      "└────────────────────────────────────────┬───────────────────────────────────────────────────────────────┘\n",
      "                                         │\n",
      "                                         ▼\n",
      "┌────────────────────────────────────────────────────────────────────────────────────────────────────────┐\n",
      "│                                                                                                        │\n",
      "│                                   Public Internet                                                      │\n",
      "│                                                                                                        │\n",
      "└───────────┬────────────────────────────┬───────────────────────────────────┬───────────────────────────┘\n",
      "            │                            │                                   │\n",
      "            │                            │                                   │\n",
      "            ▼                            ▼                                   ▼\n",
      "┌─────────────────────────┐  ┌─────────────────────────┐  ┌──────────────────────────────────────────────┐\n",
      "│ seaweed-master.${DOMAIN}│  │ seaweed-volume.${DOMAIN}│  │    seaweed.${DOMAIN}    seaweed-s3.${DOMAIN} │\n",
      "└───────────┬─────────────┘  └───────────┬─────────────┘  └──────────────────┬───────────────────────────┘\n",
      "            │                            │                                   │\n",
      "            │                            │                                   │\n",
      "            ▼                            ▼                                   ▼\n",
      "┌────────────────────────────────────────────────────────────────────────────────────────────────────────┐\n",
      "│                                                                                                        │\n",
      "│                             Traefik Reverse Proxy                                                      │\n",
      "│                               (TLS termination)                                                        │\n",
      "│                                                                                                        │\n",
      "└───────────┬────────────────────────────┬───────────────────────────────────┬───────────────────────────┘\n",
      "            │                            │                                   │\n",
      "            │                            │                                   │\n",
      "            ▼                            ▼                                   ▼\n",
      "┌────────────────────────────────────────────────────────────────────────────────────────────────────────┐\n",
      "│                                                                                                        │\n",
      "│                                External Network                                                        │\n",
      "│                                                                                                        │\n",
      "└────────────────────────────────────────┬───────────────────────────────────────────────────────────────┘\n",
      "                                         │\n",
      "                                         │\n",
      "                                         ▼\n",
      "┌────────────────────────────────────────────────────────────────────────────────────────────────────────┐\n",
      "│                                                                                                        │\n",
      "│                                                   Internal Network                                     │\n",
      "│                                                                                                        │\n",
      "└───────────┬────────────────────────────┬───────────────────────────────────┬───────────────────────────┘\n",
      "            │                            │                                   │\n",
      "            │                            │                                   │\n",
      "            ▼                            ▼                                   ▼\n",
      "┌─────────────────────┐      ┌───────────────────────┐       ┌───────────────────────────────────────────┐\n",
      "│                     │      │                       │       │                                           │\n",
      "│    Master Server    │      │    Volume Server      │       │  Filer Server                             │\n",
      "│    (master:9333)    │◄---─►│    (volume:8080)      │◄─----►│  (filer:8888, S3:8333)                    │\n",
      "│                     │      │                       │       │                                           │\n",
      "└───────────┬─────────┘      └───────────┬───────────┘       └───────────────┬───────────────────────────┘\n",
      "            │                            │                                   │\n",
      "            │                            │                                   │\n",
      "            ▼                            ▼                                   ▼\n",
      "┌─────────────────────┐      ┌───────────────────────┐       ┌───────────────────────────────────────────┐\n",
      "│    No Persistent    │      │     volume:/data      │       │           filer:/data                     │\n",
      "│       Storage       │      │     (Volumes Data)    │       │        (Metadata Storage)                 │\n",
      "└─────────────────────┘      └───────────────────────┘       └───────────────────────────────────────────┘\n",
      "\n"
     ]
    }
   ],
   "source": [
    "architecture_diagram = \"\"\"\n",
    "┌────────────────────────────────────────────────────────────────────────────────────────────────────────┐\n",
    "│                                                                                                        │\n",
    "│                            Client (Browser/API Client)                                                 │\n",
    "│                                                                                                        │\n",
    "└────────────────────────────────────────┬───────────────────────────────────────────────────────────────┘\n",
    "                                         │\n",
    "                                         ▼\n",
    "┌────────────────────────────────────────────────────────────────────────────────────────────────────────┐\n",
    "│                                                                                                        │\n",
    "│                                   Public Internet                                                      │\n",
    "│                                                                                                        │\n",
    "└───────────┬────────────────────────────┬───────────────────────────────────┬───────────────────────────┘\n",
    "            │                            │                                   │\n",
    "            │                            │                                   │\n",
    "            ▼                            ▼                                   ▼\n",
    "┌─────────────────────────┐  ┌─────────────────────────┐  ┌──────────────────────────────────────────────┐\n",
    "│ seaweed-master.${DOMAIN}│  │ seaweed-volume.${DOMAIN}│  │    seaweed.${DOMAIN}    seaweed-s3.${DOMAIN} │\n",
    "└───────────┬─────────────┘  └───────────┬─────────────┘  └──────────────────┬───────────────────────────┘\n",
    "            │                            │                                   │\n",
    "            │                            │                                   │\n",
    "            ▼                            ▼                                   ▼\n",
    "┌────────────────────────────────────────────────────────────────────────────────────────────────────────┐\n",
    "│                                                                                                        │\n",
    "│                             Traefik Reverse Proxy                                                      │\n",
    "│                               (TLS termination)                                                        │\n",
    "│                                                                                                        │\n",
    "└───────────┬────────────────────────────┬───────────────────────────────────┬───────────────────────────┘\n",
    "            │                            │                                   │\n",
    "            │                            │                                   │\n",
    "            ▼                            ▼                                   ▼\n",
    "┌────────────────────────────────────────────────────────────────────────────────────────────────────────┐\n",
    "│                                                                                                        │\n",
    "│                                External Network                                                        │\n",
    "│                                                                                                        │\n",
    "└────────────────────────────────────────┬───────────────────────────────────────────────────────────────┘\n",
    "                                         │\n",
    "                                         │\n",
    "                                         ▼\n",
    "┌────────────────────────────────────────────────────────────────────────────────────────────────────────┐\n",
    "│                                                                                                        │\n",
    "│                                                   Internal Network                                     │\n",
    "│                                                                                                        │\n",
    "└───────────┬────────────────────────────┬───────────────────────────────────┬───────────────────────────┘\n",
    "            │                            │                                   │\n",
    "            │                            │                                   │\n",
    "            ▼                            ▼                                   ▼\n",
    "┌─────────────────────┐      ┌───────────────────────┐       ┌───────────────────────────────────────────┐\n",
    "│                     │      │                       │       │                                           │\n",
    "│    Master Server    │      │    Volume Server      │       │  Filer Server                             │\n",
    "│    (master:9333)    │◄---─►│    (volume:8080)      │◄─----►│  (filer:8888, S3:8333)                    │\n",
    "│                     │      │                       │       │                                           │\n",
    "└───────────┬─────────┘      └───────────┬───────────┘       └───────────────┬───────────────────────────┘\n",
    "            │                            │                                   │\n",
    "            │                            │                                   │\n",
    "            ▼                            ▼                                   ▼\n",
    "┌─────────────────────┐      ┌───────────────────────┐       ┌───────────────────────────────────────────┐\n",
    "│    No Persistent    │      │     volume:/data      │       │           filer:/data                     │\n",
    "│       Storage       │      │     (Volumes Data)    │       │        (Metadata Storage)                 │\n",
    "└─────────────────────┘      └───────────────────────┘       └───────────────────────────────────────────┘\n",
    "\"\"\"\n",
    "\n",
    "print(architecture_diagram)"
   ]
  },
  {
   "cell_type": "markdown",
   "id": "df36cf78",
   "metadata": {},
   "source": [
    "## 8. Component Details\n",
    "\n",
    "Let's examine each component in more detail:"
   ]
  },
  {
   "cell_type": "code",
   "execution_count": 14,
   "id": "8d8e1f68",
   "metadata": {},
   "outputs": [
    {
     "data": {
      "text/html": [
       "\n",
       "    <div style=\"background-color:#f5f5f5; border:1px solid #ddd; border-radius:5px; padding:15px; margin-bottom:20px;\">\n",
       "        <h3 style=\"color:#2c3e50;\">Master Server (master)</h3>\n",
       "        <p><strong>Container:</strong> demo-master-1</p>\n",
       "        <p><strong>Primary Port(s):</strong> 9333</p>\n",
       "        <p><strong>Role:</strong> Coordination and management</p>\n",
       "        <p><strong>Description:</strong> Manages volume servers, assigns volume IDs, and maintains cluster topology.</p>\n",
       "        <p><strong>Persistence:</strong> None (stateless coordination)</p>\n",
       "        <p><strong>Key Endpoints:</strong></p>\n",
       "        <ul>\n",
       "    <li>/cluster/status - Shows cluster health</li><li>/vol/lookup - Find volume location</li><li>/vol/grow - Add new volumes</li>\n",
       "        </ul>\n",
       "    </div>\n",
       "    "
      ],
      "text/plain": [
       "<IPython.core.display.HTML object>"
      ]
     },
     "metadata": {},
     "output_type": "display_data"
    },
    {
     "data": {
      "text/html": [
       "\n",
       "    <div style=\"background-color:#f5f5f5; border:1px solid #ddd; border-radius:5px; padding:15px; margin-bottom:20px;\">\n",
       "        <h3 style=\"color:#2c3e50;\">Volume Server (volume)</h3>\n",
       "        <p><strong>Container:</strong> demo-volume-1</p>\n",
       "        <p><strong>Primary Port(s):</strong> 8080</p>\n",
       "        <p><strong>Role:</strong> Data storage</p>\n",
       "        <p><strong>Description:</strong> Stores and serves file data chunks (needles) organized into volumes.</p>\n",
       "        <p><strong>Persistence:</strong> volume:/data Docker volume</p>\n",
       "        <p><strong>Key Endpoints:</strong></p>\n",
       "        <ul>\n",
       "    <li>/status - Server health</li><li>/stats/counter - Statistics</li><li>/{volume_id}/{needle_id} - Access file chunks</li>\n",
       "        </ul>\n",
       "    </div>\n",
       "    "
      ],
      "text/plain": [
       "<IPython.core.display.HTML object>"
      ]
     },
     "metadata": {},
     "output_type": "display_data"
    },
    {
     "data": {
      "text/html": [
       "\n",
       "    <div style=\"background-color:#f5f5f5; border:1px solid #ddd; border-radius:5px; padding:15px; margin-bottom:20px;\">\n",
       "        <h3 style=\"color:#2c3e50;\">Filer Server (filer)</h3>\n",
       "        <p><strong>Container:</strong> demo-filer-1</p>\n",
       "        <p><strong>Primary Port(s):</strong> 8888 (Filer API), 8333 (S3 API)</p>\n",
       "        <p><strong>Role:</strong> File management and S3 API</p>\n",
       "        <p><strong>Description:</strong> Provides a directory hierarchy, manages file metadata, and offers S3 compatibility.</p>\n",
       "        <p><strong>Persistence:</strong> filer:/data Docker volume</p>\n",
       "        <p><strong>Key Endpoints:</strong></p>\n",
       "        <ul>\n",
       "    <li>/ - Web UI and directory browsing</li><li>/buckets/* - S3 bucket operations</li><li>/{path} - File operations</li>\n",
       "        </ul>\n",
       "    </div>\n",
       "    "
      ],
      "text/plain": [
       "<IPython.core.display.HTML object>"
      ]
     },
     "metadata": {},
     "output_type": "display_data"
    }
   ],
   "source": [
    "# Create detailed component descriptions\n",
    "component_details = {\n",
    "    'master': {\n",
    "        'name': 'Master Server',\n",
    "        'container': 'demo-master-1',\n",
    "        'primary_port': 9333,\n",
    "        'role': 'Coordination and management',\n",
    "        'description': 'Manages volume servers, assigns volume IDs, and maintains cluster topology.',\n",
    "        'persistence': 'None (stateless coordination)',\n",
    "        'key_endpoints': [\n",
    "            '/cluster/status - Shows cluster health',\n",
    "            '/vol/lookup - Find volume location',\n",
    "            '/vol/grow - Add new volumes'\n",
    "        ]\n",
    "    },\n",
    "    'volume': {\n",
    "        'name': 'Volume Server',\n",
    "        'container': 'demo-volume-1',\n",
    "        'primary_port': 8080,\n",
    "        'role': 'Data storage',\n",
    "        'description': 'Stores and serves file data chunks (needles) organized into volumes.',\n",
    "        'persistence': 'volume:/data Docker volume',\n",
    "        'key_endpoints': [\n",
    "            '/status - Server health',\n",
    "            '/stats/counter - Statistics',\n",
    "            '/{volume_id}/{needle_id} - Access file chunks'\n",
    "        ]\n",
    "    },\n",
    "    'filer': {\n",
    "        'name': 'Filer Server',\n",
    "        'container': 'demo-filer-1',\n",
    "        'primary_ports': '8888 (Filer API), 8333 (S3 API)',\n",
    "        'role': 'File management and S3 API',\n",
    "        'description': 'Provides a directory hierarchy, manages file metadata, and offers S3 compatibility.',\n",
    "        'persistence': 'filer:/data Docker volume',\n",
    "        'key_endpoints': [\n",
    "            '/ - Web UI and directory browsing',\n",
    "            '/buckets/* - S3 bucket operations',\n",
    "            '/{path} - File operations'\n",
    "        ]\n",
    "    }\n",
    "}\n",
    "\n",
    "# Function to format component details as HTML\n",
    "def format_component_details(component):\n",
    "    details = component_details[component]\n",
    "    html = f\"\"\"\n",
    "    <div style=\"background-color:#f5f5f5; border:1px solid #ddd; border-radius:5px; padding:15px; margin-bottom:20px;\">\n",
    "        <h3 style=\"color:#2c3e50;\">{details['name']} ({component})</h3>\n",
    "        <p><strong>Container:</strong> {details['container']}</p>\n",
    "        <p><strong>Primary Port(s):</strong> {details['primary_port'] if 'primary_port' in details else details['primary_ports']}</p>\n",
    "        <p><strong>Role:</strong> {details['role']}</p>\n",
    "        <p><strong>Description:</strong> {details['description']}</p>\n",
    "        <p><strong>Persistence:</strong> {details['persistence']}</p>\n",
    "        <p><strong>Key Endpoints:</strong></p>\n",
    "        <ul>\n",
    "    \"\"\"\n",
    "    \n",
    "    for endpoint in details['key_endpoints']:\n",
    "        html += f\"<li>{endpoint}</li>\"\n",
    "    \n",
    "    html += \"\"\"\n",
    "        </ul>\n",
    "    </div>\n",
    "    \"\"\"\n",
    "    \n",
    "    return html\n",
    "\n",
    "# Display component details\n",
    "for component in component_details.keys():\n",
    "    display(HTML(format_component_details(component)))"
   ]
  },
  {
   "cell_type": "markdown",
   "id": "d0330443",
   "metadata": {},
   "source": [
    "## 9. Interacting with S3 API\n",
    "\n",
    "Let's see how to interact with the SeaweedFS S3 API using Python's boto3 library:"
   ]
  },
  {
   "cell_type": "code",
   "execution_count": 15,
   "id": "ac04a822",
   "metadata": {},
   "outputs": [],
   "source": [
    "# Load environment variables (AWS credentials)\n",
    "load_dotenv()\n",
    "\n",
    "# Function to create an S3 client\n",
    "def create_s3_client():\n",
    "    \"\"\"\n",
    "    Create an S3 client configured to connect to SeaweedFS S3 API\n",
    "    \"\"\"\n",
    "    # Load AWS credentials from environment variables\n",
    "    aws_access_key_id = os.getenv('AWS_ACCESS_KEY_ID')\n",
    "    aws_secret_access_key = os.getenv('AWS_SECRET_ACCESS_KEY')\n",
    "    \n",
    "    # Create S3 client\n",
    "    s3_client = boto3.client(\n",
    "        's3',\n",
    "        endpoint_url='http://localhost:8333',\n",
    "        aws_access_key_id=aws_access_key_id,\n",
    "        aws_secret_access_key=aws_secret_access_key,\n",
    "        region_name='us-east-1',  # Default region\n",
    "        verify=False  # Skip SSL verification for local development\n",
    "    )\n",
    "    \n",
    "    return s3_client\n",
    "\n",
    "# Format and display S3 bucket listing\n",
    "def format_table(data, title=None):\n",
    "    \"\"\"\n",
    "    Format data as a styled HTML table\n",
    "    \"\"\"\n",
    "    from IPython.display import HTML\n",
    "    \n",
    "    # Convert to DataFrame for easy formatting\n",
    "    if isinstance(data, list) and len(data) > 0 and isinstance(data[0], dict):\n",
    "        df = pd.DataFrame(data)\n",
    "    elif isinstance(data, dict):\n",
    "        df = pd.DataFrame([data])\n",
    "    else:\n",
    "        df = pd.DataFrame(data)\n",
    "    \n",
    "    try:\n",
    "        # Try to use DataFrame styling (requires jinja2)\n",
    "        styled_df = df.style\n",
    "        if title:\n",
    "            styled_df = styled_df.set_caption(title)\n",
    "        styled_df = styled_df.set_properties(**{\n",
    "            'text-align': 'left',\n",
    "            'border': '1px solid #ddd',\n",
    "            'padding': '8px',\n",
    "            'background-color': '#f5f5f5'\n",
    "        })\n",
    "        return styled_df\n",
    "    except AttributeError:\n",
    "        # Fallback to basic HTML if styling is not available\n",
    "        html = df.to_html(index=False)\n",
    "        if title:\n",
    "            html = f\"<h4>{title}</h4>\" + html\n",
    "        return HTML(html)"
   ]
  },
  {
   "cell_type": "code",
   "execution_count": 16,
   "id": "426e49c4",
   "metadata": {},
   "outputs": [
    {
     "name": "stdout",
     "output_type": "stream",
     "text": [
      "Error listing buckets: Could not connect to the endpoint URL: \"http://localhost:8333/\"\n"
     ]
    }
   ],
   "source": [
    "# List S3 buckets\n",
    "def list_s3_buckets_api():\n",
    "    \"\"\"\n",
    "    List all S3 buckets using the S3 API\n",
    "    \"\"\"\n",
    "    try:\n",
    "        s3_client = create_s3_client()\n",
    "        response = s3_client.list_buckets()\n",
    "        buckets = [{\n",
    "            'Name': bucket['Name'],\n",
    "            'CreationDate': bucket['CreationDate'].strftime('%Y-%m-%d %H:%M:%S%z')\n",
    "        } for bucket in response['Buckets']]\n",
    "        \n",
    "        print(f\"S3 Buckets: {buckets}\")\n",
    "        return format_table(buckets, title=\"S3 Buckets\")\n",
    "    except Exception as e:\n",
    "        print(f\"Error listing buckets: {e}\")\n",
    "        return None\n",
    "\n",
    "# Run the bucket listing function\n",
    "list_s3_buckets_api()"
   ]
  },
  {
   "cell_type": "markdown",
   "id": "4217bfef",
   "metadata": {},
   "source": [
    "## 10. Key SeaweedFS Operations and Workflow\n",
    "\n",
    "Let's examine the workflow of how data is stored and retrieved in SeaweedFS:"
   ]
  },
  {
   "cell_type": "code",
   "execution_count": 17,
   "id": "46b86b12",
   "metadata": {},
   "outputs": [
    {
     "name": "stdout",
     "output_type": "stream",
     "text": [
      "\n",
      "1. Write Operation Flow:\n",
      "   ┌────────┐     1. Request to store file    ┌─────────────┐\n",
      "   │ Client │────────────────────────────────>│ Filer (8888)│\n",
      "   └────────┘                                 └──────┬──────┘\n",
      "       ▲                                             │\n",
      "       │                                             │ 2. Request volume ID\n",
      "       │                                             ▼\n",
      "       │                                      ┌─────────────┐\n",
      "       │                                      │Master (9333)│\n",
      "       │                                      └──────┬──────┘\n",
      "       │                                             │\n",
      "       │                                             │ 3. Assign volume ID\n",
      "       │                                             ▼\n",
      "       │                                      ┌─────────────┐\n",
      "       │       6. Return file ID and URL      │Filer (8888) │\n",
      "       │<─────────────────────────────────────┤             │\n",
      "       │                                      └──────┬──────┘\n",
      "       │                                             │\n",
      "       │                                             │ 4. Write file chunks\n",
      "       │                                             ▼\n",
      "       │                                      ┌─────────────┐\n",
      "       │                                      │Volume (8080)│\n",
      "       └──────────────────────────────────────┤             │\n",
      "          5. File stored successfully         └─────────────┘\n",
      "\n",
      "2. Read Operation Flow:\n",
      "   ┌────────┐     1. Request to read file     ┌─────────────┐\n",
      "   │ Client │────────────────────────────────>│ Filer (8888)│\n",
      "   └────────┘                                 └──────┬──────┘\n",
      "       ▲                                             │\n",
      "       │                                             │ 2. Look up file metadata\n",
      "       │                                             ▼\n",
      "       │                                      ┌─────────────┐\n",
      "       │      3. Get volume and file ID       │Filer (8888) │\n",
      "       │<─────────────────────────────────────┤ (metadata)  │\n",
      "       │                                      └─────────────┘\n",
      "       │\n",
      "       │      4. Request file chunks          ┌─────────────┐\n",
      "       └─────────────────────────────────────>│Volume (8080)│\n",
      "                                              └──────┬──────┘\n",
      "       ┌────────┐                                    │\n",
      "       │ Client │<───────────────────────────────────┘\n",
      "       └────────┘     5. Return file data\n",
      "\n",
      "3. S3 API Operation Flow:\n",
      "   ┌────────┐     1. S3 API request           ┌─────────────┐\n",
      "   │ Client │────────────────────────────────>│ Filer (8333)│\n",
      "   └────────┘                                 └──────┬──────┘\n",
      "       ▲                                             │\n",
      "       │                                             │ 2. Internal processing\n",
      "       │                                             ▼\n",
      "       │                                      ┌─────────────┐\n",
      "       │      4. S3 API response              │Filer (8888) │\n",
      "       │<─────────────────────────────────────┤             │\n",
      "       │                                      └──────┬──────┘\n",
      "                                                     │\n",
      "                                                     │ 3. Storage operations\n",
      "                                                     ▼\n",
      "                                              ┌─────────────┐\n",
      "                                              │Volume (8080)│\n",
      "                                              └─────────────┘\n",
      "\n"
     ]
    }
   ],
   "source": [
    "workflow = \"\"\"\n",
    "1. Write Operation Flow:\n",
    "   ┌────────┐     1. Request to store file    ┌─────────────┐\n",
    "   │ Client │────────────────────────────────>│ Filer (8888)│\n",
    "   └────────┘                                 └──────┬──────┘\n",
    "       ▲                                             │\n",
    "       │                                             │ 2. Request volume ID\n",
    "       │                                             ▼\n",
    "       │                                      ┌─────────────┐\n",
    "       │                                      │Master (9333)│\n",
    "       │                                      └──────┬──────┘\n",
    "       │                                             │\n",
    "       │                                             │ 3. Assign volume ID\n",
    "       │                                             ▼\n",
    "       │                                      ┌─────────────┐\n",
    "       │       6. Return file ID and URL      │Filer (8888) │\n",
    "       │<─────────────────────────────────────┤             │\n",
    "       │                                      └──────┬──────┘\n",
    "       │                                             │\n",
    "       │                                             │ 4. Write file chunks\n",
    "       │                                             ▼\n",
    "       │                                      ┌─────────────┐\n",
    "       │                                      │Volume (8080)│\n",
    "       └──────────────────────────────────────┤             │\n",
    "          5. File stored successfully         └─────────────┘\n",
    "\n",
    "2. Read Operation Flow:\n",
    "   ┌────────┐     1. Request to read file     ┌─────────────┐\n",
    "   │ Client │────────────────────────────────>│ Filer (8888)│\n",
    "   └────────┘                                 └──────┬──────┘\n",
    "       ▲                                             │\n",
    "       │                                             │ 2. Look up file metadata\n",
    "       │                                             ▼\n",
    "       │                                      ┌─────────────┐\n",
    "       │      3. Get volume and file ID       │Filer (8888) │\n",
    "       │<─────────────────────────────────────┤ (metadata)  │\n",
    "       │                                      └─────────────┘\n",
    "       │\n",
    "       │      4. Request file chunks          ┌─────────────┐\n",
    "       └─────────────────────────────────────>│Volume (8080)│\n",
    "                                              └──────┬──────┘\n",
    "       ┌────────┐                                    │\n",
    "       │ Client │<───────────────────────────────────┘\n",
    "       └────────┘     5. Return file data\n",
    "\n",
    "3. S3 API Operation Flow:\n",
    "   ┌────────┐     1. S3 API request           ┌─────────────┐\n",
    "   │ Client │────────────────────────────────>│ Filer (8333)│\n",
    "   └────────┘                                 └──────┬──────┘\n",
    "       ▲                                             │\n",
    "       │                                             │ 2. Internal processing\n",
    "       │                                             ▼\n",
    "       │                                      ┌─────────────┐\n",
    "       │      4. S3 API response              │Filer (8888) │\n",
    "       │<─────────────────────────────────────┤             │\n",
    "       │                                      └──────┬──────┘\n",
    "                                                     │\n",
    "                                                     │ 3. Storage operations\n",
    "                                                     ▼\n",
    "                                              ┌─────────────┐\n",
    "                                              │Volume (8080)│\n",
    "                                              └─────────────┘\n",
    "\"\"\"\n",
    "\n",
    "print(workflow)"
   ]
  },
  {
   "cell_type": "markdown",
   "id": "ea94555f",
   "metadata": {},
   "source": [
    "## 11. SeaweedFS Scaling Options\n",
    "\n",
    "SeaweedFS is designed to be highly scalable. Let's explore how this setup can be scaled:"
   ]
  },
  {
   "cell_type": "code",
   "execution_count": 18,
   "id": "b082bd6b",
   "metadata": {},
   "outputs": [
    {
     "data": {
      "text/html": [
       "<style type=\"text/css\">\n",
       "#T_48581_row0_col0, #T_48581_row0_col1, #T_48581_row0_col2, #T_48581_row0_col3, #T_48581_row1_col0, #T_48581_row1_col1, #T_48581_row1_col2, #T_48581_row1_col3, #T_48581_row2_col0, #T_48581_row2_col1, #T_48581_row2_col2, #T_48581_row2_col3 {\n",
       "  text-align: left;\n",
       "  border: 1px solid #ddd;\n",
       "  padding: 8px;\n",
       "  background-color: #f5f5f5;\n",
       "}\n",
       "</style>\n",
       "<table id=\"T_48581\">\n",
       "  <caption>SeaweedFS Scaling Options</caption>\n",
       "  <thead>\n",
       "    <tr>\n",
       "      <th class=\"blank level0\" >&nbsp;</th>\n",
       "      <th id=\"T_48581_level0_col0\" class=\"col_heading level0 col0\" >Component</th>\n",
       "      <th id=\"T_48581_level0_col1\" class=\"col_heading level0 col1\" >Scaling Strategy</th>\n",
       "      <th id=\"T_48581_level0_col2\" class=\"col_heading level0 col2\" >Configuration</th>\n",
       "      <th id=\"T_48581_level0_col3\" class=\"col_heading level0 col3\" >Benefits</th>\n",
       "    </tr>\n",
       "  </thead>\n",
       "  <tbody>\n",
       "    <tr>\n",
       "      <th id=\"T_48581_level0_row0\" class=\"row_heading level0 row0\" >0</th>\n",
       "      <td id=\"T_48581_row0_col0\" class=\"data row0 col0\" >Master</td>\n",
       "      <td id=\"T_48581_row0_col1\" class=\"data row0 col1\" >Multiple masters in a Raft cluster for high availability</td>\n",
       "      <td id=\"T_48581_row0_col2\" class=\"data row0 col2\" >Add multiple master instances with peer settings</td>\n",
       "      <td id=\"T_48581_row0_col3\" class=\"data row0 col3\" >Fault tolerance, no single point of failure</td>\n",
       "    </tr>\n",
       "    <tr>\n",
       "      <th id=\"T_48581_level0_row1\" class=\"row_heading level0 row1\" >1</th>\n",
       "      <td id=\"T_48581_row1_col0\" class=\"data row1 col0\" >Volume</td>\n",
       "      <td id=\"T_48581_row1_col1\" class=\"data row1 col1\" >Horizontal scaling with multiple volume servers</td>\n",
       "      <td id=\"T_48581_row1_col2\" class=\"data row1 col2\" >Add more volume servers, configure replication</td>\n",
       "      <td id=\"T_48581_row1_col3\" class=\"data row1 col3\" >Increased storage capacity, read/write throughput</td>\n",
       "    </tr>\n",
       "    <tr>\n",
       "      <th id=\"T_48581_level0_row2\" class=\"row_heading level0 row2\" >2</th>\n",
       "      <td id=\"T_48581_row2_col0\" class=\"data row2 col0\" >Filer</td>\n",
       "      <td id=\"T_48581_row2_col1\" class=\"data row2 col1\" >Multiple filers with shared metadata</td>\n",
       "      <td id=\"T_48581_row2_col2\" class=\"data row2 col2\" >Use shared database (MySQL, Redis, etc.) for metadata</td>\n",
       "      <td id=\"T_48581_row2_col3\" class=\"data row2 col3\" >Load balancing, increased client connection capacity</td>\n",
       "    </tr>\n",
       "  </tbody>\n",
       "</table>\n"
      ],
      "text/plain": [
       "<pandas.io.formats.style.Styler at 0x7f598dcb0610>"
      ]
     },
     "execution_count": 18,
     "metadata": {},
     "output_type": "execute_result"
    }
   ],
   "source": [
    "scaling_options = [\n",
    "    {\n",
    "        \"Component\": \"Master\",\n",
    "        \"Scaling Strategy\": \"Multiple masters in a Raft cluster for high availability\",\n",
    "        \"Configuration\": \"Add multiple master instances with peer settings\",\n",
    "        \"Benefits\": \"Fault tolerance, no single point of failure\"\n",
    "    },\n",
    "    {\n",
    "        \"Component\": \"Volume\",\n",
    "        \"Scaling Strategy\": \"Horizontal scaling with multiple volume servers\",\n",
    "        \"Configuration\": \"Add more volume servers, configure replication\",\n",
    "        \"Benefits\": \"Increased storage capacity, read/write throughput\"\n",
    "    },\n",
    "    {\n",
    "        \"Component\": \"Filer\",\n",
    "        \"Scaling Strategy\": \"Multiple filers with shared metadata\",\n",
    "        \"Configuration\": \"Use shared database (MySQL, Redis, etc.) for metadata\",\n",
    "        \"Benefits\": \"Load balancing, increased client connection capacity\"\n",
    "    }\n",
    "]\n",
    "\n",
    "# Display scaling options\n",
    "format_table(scaling_options, title=\"SeaweedFS Scaling Options\")"
   ]
  },
  {
   "cell_type": "markdown",
   "id": "aa1b8d7a",
   "metadata": {},
   "source": [
    "## 12. Summary\n",
    "\n",
    "SeaweedFS provides a simple yet powerful distributed file system with:\n",
    "\n",
    "1. **Master Server**: Coordinates cluster operations and volume assignment\n",
    "2. **Volume Server**: Stores and serves actual file data\n",
    "3. **Filer Server**: Provides file/directory abstraction and S3 API compatibility\n",
    "\n",
    "This setup can be used for various applications:\n",
    "\n",
    "- Object storage with S3 API compatibility\n",
    "- Image and video storage\n",
    "- Backup and archival\n",
    "- Content delivery\n",
    "- Big data applications\n",
    "\n",
    "The system can be scaled horizontally by adding more volume servers, creating a master cluster for high availability, and deploying multiple filers for increased throughput."
   ]
  },
  {
   "cell_type": "markdown",
   "id": "bcf18456",
   "metadata": {},
   "source": []
  },
  {
   "cell_type": "markdown",
   "id": "db4bce2b",
   "metadata": {},
   "source": []
  },
  {
   "cell_type": "markdown",
   "id": "36480e37",
   "metadata": {},
   "source": []
  }
 ],
 "metadata": {
  "kernelspec": {
   "display_name": ".venv",
   "language": "python",
   "name": "python3"
  },
  "language_info": {
   "codemirror_mode": {
    "name": "ipython",
    "version": 3
   },
   "file_extension": ".py",
   "mimetype": "text/x-python",
   "name": "python",
   "nbconvert_exporter": "python",
   "pygments_lexer": "ipython3",
   "version": "3.9.2"
  }
 },
 "nbformat": 4,
 "nbformat_minor": 5
}
